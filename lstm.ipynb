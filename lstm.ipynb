{
 "cells": [
  {
   "cell_type": "code",
   "execution_count": 11,
   "metadata": {},
   "outputs": [
    {
     "ename": "ModuleNotFoundError",
     "evalue": "No module named 'sklearn'",
     "output_type": "error",
     "traceback": [
      "\u001b[1;31m---------------------------------------------------------------------------\u001b[0m",
      "\u001b[1;31mModuleNotFoundError\u001b[0m                       Traceback (most recent call last)",
      "Cell \u001b[1;32mIn[11], line 6\u001b[0m\n\u001b[0;32m      4\u001b[0m \u001b[38;5;28;01mimport\u001b[39;00m \u001b[38;5;21;01mnumpy\u001b[39;00m \u001b[38;5;28;01mas\u001b[39;00m \u001b[38;5;21;01mnp\u001b[39;00m\n\u001b[0;32m      5\u001b[0m \u001b[38;5;28;01mimport\u001b[39;00m \u001b[38;5;21;01mpickle\u001b[39;00m\n\u001b[1;32m----> 6\u001b[0m \u001b[38;5;28;01mfrom\u001b[39;00m \u001b[38;5;21;01msklearn\u001b[39;00m\u001b[38;5;21;01m.\u001b[39;00m\u001b[38;5;21;01mpreprocessing\u001b[39;00m \u001b[38;5;28;01mimport\u001b[39;00m MinMaxScaler\n\u001b[0;32m      7\u001b[0m \u001b[38;5;28;01mfrom\u001b[39;00m \u001b[38;5;21;01mkeras\u001b[39;00m\u001b[38;5;21;01m.\u001b[39;00m\u001b[38;5;21;01mmodels\u001b[39;00m \u001b[38;5;28;01mimport\u001b[39;00m Sequential\n\u001b[0;32m      8\u001b[0m \u001b[38;5;28;01mfrom\u001b[39;00m \u001b[38;5;21;01mkeras\u001b[39;00m\u001b[38;5;21;01m.\u001b[39;00m\u001b[38;5;21;01mlayers\u001b[39;00m \u001b[38;5;28;01mimport\u001b[39;00m LSTM, Dense\n",
      "\u001b[1;31mModuleNotFoundError\u001b[0m: No module named 'sklearn'"
     ]
    }
   ],
   "source": [
    "import os\n",
    "import pandas as pd\n",
    "import matplotlib.pyplot as plt\n",
    "import numpy as np\n",
    "import pickle\n",
    "from sklearn.preprocessing import MinMaxScaler\n",
    "from keras.models import Sequential\n",
    "from keras.layers import LSTM, Dense\n",
    "\n",
    "import warnings\n",
    "warnings.simplefilter(action='ignore', category=FutureWarning)"
   ]
  },
  {
   "cell_type": "code",
   "execution_count": 7,
   "metadata": {},
   "outputs": [],
   "source": [
    "with open('pickles/train_dfs.pkl', 'rb') as archivo:\n",
    "    train_dfs = pickle.load(archivo)\n",
    "with open('pickles/test_dfs.pkl', 'rb') as archivo:\n",
    "    test_dfs = pickle.load(archivo)"
   ]
  },
  {
   "cell_type": "code",
   "execution_count": 9,
   "metadata": {},
   "outputs": [
    {
     "data": {
      "text/plain": [
       "(9, 19)"
      ]
     },
     "execution_count": 9,
     "metadata": {},
     "output_type": "execute_result"
    }
   ],
   "source": [
    "len(train_dfs), len(test_dfs)"
   ]
  },
  {
   "cell_type": "code",
   "execution_count": 10,
   "metadata": {},
   "outputs": [
    {
     "data": {
      "text/plain": [
       "((16598, 16),\n",
       " array([[0.8442645603171938, 0.4227922711060506, 0.4646260990921964, ...,\n",
       "         False, False, False],\n",
       "        [0.8393287286758949, 0.3996053454651987, 0.46635100193025864, ...,\n",
       "         False, False, False],\n",
       "        [0.8393287286758949, 0.3926985806153541, 0.46630306401273486, ...,\n",
       "         False, False, False],\n",
       "        ...,\n",
       "        [0.7071273463082389, 0.621114949084335, 0.7566218751140601, ...,\n",
       "         False, False, False],\n",
       "        [0.7038104657470432, 0.6277750462251837, 0.7544186660517622, ...,\n",
       "         False, False, False],\n",
       "        [0.6988351499595439, 0.6253083231365847, 0.7553296589232483, ...,\n",
       "         False, False, False]], dtype=object))"
      ]
     },
     "execution_count": 10,
     "metadata": {},
     "output_type": "execute_result"
    }
   ],
   "source": [
    "train_dfs[0].shape, train_dfs[0]"
   ]
  },
  {
   "cell_type": "code",
   "execution_count": null,
   "metadata": {},
   "outputs": [],
   "source": [
    "\n",
    "# Convierte los datos de series temporales en un formato adecuado para LSTM\n",
    "data = data.dropna()\n",
    "data = data.reset_index(drop=True)\n",
    "data['time'] = data['time'].astype('int64')\n",
    "\n",
    "# Crea el modelo LSTM\n",
    "model = Sequential()\n",
    "model.add(LSTM(100, input_shape=(1, 1)))\n",
    "model.add(Dense(1))\n",
    "model.compile(loss='mse', optimizer='adam')\n",
    "\n",
    "# Entrena el modelo LSTM\n",
    "model.fit(train_data['value'].values.reshape(-1, 1), train_data['time'].values, epochs=100, batch_size=10)\n",
    "\n",
    "# Predice la primera variable de los datos de series temporales\n",
    "predictions = model.predict(test_data['value'].values.reshape(-1, 1))\n",
    "\n",
    "# Grafica los resultados\n",
    "plt.plot(test_data['time'], test_data['value'], label='Valor real')\n",
    "plt.plot(test_data['time'], predictions, label='Predicción')\n",
    "plt.legend()\n",
    "plt.show()"
   ]
  }
 ],
 "metadata": {
  "kernelspec": {
   "display_name": ".venv",
   "language": "python",
   "name": "python3"
  },
  "language_info": {
   "codemirror_mode": {
    "name": "ipython",
    "version": 3
   },
   "file_extension": ".py",
   "mimetype": "text/x-python",
   "name": "python",
   "nbconvert_exporter": "python",
   "pygments_lexer": "ipython3",
   "version": "3.12.0"
  }
 },
 "nbformat": 4,
 "nbformat_minor": 2
}
